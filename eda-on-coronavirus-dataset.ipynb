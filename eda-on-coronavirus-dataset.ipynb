{
 "cells": [
  {
   "cell_type": "code",
   "execution_count": 1,
   "id": "540d66f0",
   "metadata": {
    "_cell_guid": "b1076dfc-b9ad-4769-8c92-a6c4dae69d19",
    "_uuid": "8f2839f25d086af736a60e9eeb907d3b93b6e0e5",
    "execution": {
     "iopub.execute_input": "2023-03-28T06:37:53.134547Z",
     "iopub.status.busy": "2023-03-28T06:37:53.134127Z",
     "iopub.status.idle": "2023-03-28T06:37:54.295982Z",
     "shell.execute_reply": "2023-03-28T06:37:54.294960Z"
    },
    "papermill": {
     "duration": 1.175822,
     "end_time": "2023-03-28T06:37:54.299288",
     "exception": false,
     "start_time": "2023-03-28T06:37:53.123466",
     "status": "completed"
    },
    "tags": []
   },
   "outputs": [
    {
     "name": "stdout",
     "output_type": "stream",
     "text": [
      "/kaggle/input/records-of-coronavirus-dataset/WHO-COVID-19-global-data.csv\n"
     ]
    }
   ],
   "source": [
    "# This Python 3 environment comes with many helpful analytics libraries installed\n",
    "# It is defined by the kaggle/python Docker image: https://github.com/kaggle/docker-python\n",
    "# For example, here's several helpful packages to \n",
    "import datetime\n",
    "import numpy as np \n",
    "import pandas as pd \n",
    "import matplotlib.pyplot as plt \n",
    "%matplotlib inline \n",
    "import seaborn as sns\n",
    "\n",
    "# Input data files are available in the read-only \"../input/\" directory\n",
    "# For example, running this (by clicking run or pressing Shift+Enter) will list all files under the input directory\n",
    "\n",
    "import os\n",
    "for dirname, _, filenames in os.walk('/kaggle/input'):\n",
    "    for filename in filenames:\n",
    "        print(os.path.join(dirname, filename))\n",
    "\n",
    "# You can write up to 20GB to the current directory (/kaggle/working/) that gets preserved as output when you create a version using \"Save & Run All\" \n",
    "# You can also write temporary files to /kaggle/temp/, but they won't be saved outside of the current sessio"
   ]
  },
  {
   "cell_type": "code",
   "execution_count": 2,
   "id": "426e8e11",
   "metadata": {
    "execution": {
     "iopub.execute_input": "2023-03-28T06:37:54.317141Z",
     "iopub.status.busy": "2023-03-28T06:37:54.316164Z",
     "iopub.status.idle": "2023-03-28T06:37:54.720348Z",
     "shell.execute_reply": "2023-03-28T06:37:54.719105Z"
    },
    "papermill": {
     "duration": 0.415556,
     "end_time": "2023-03-28T06:37:54.723217",
     "exception": false,
     "start_time": "2023-03-28T06:37:54.307661",
     "status": "completed"
    },
    "tags": []
   },
   "outputs": [
    {
     "data": {
      "text/html": [
       "<div>\n",
       "<style scoped>\n",
       "    .dataframe tbody tr th:only-of-type {\n",
       "        vertical-align: middle;\n",
       "    }\n",
       "\n",
       "    .dataframe tbody tr th {\n",
       "        vertical-align: top;\n",
       "    }\n",
       "\n",
       "    .dataframe thead th {\n",
       "        text-align: right;\n",
       "    }\n",
       "</style>\n",
       "<table border=\"1\" class=\"dataframe\">\n",
       "  <thead>\n",
       "    <tr style=\"text-align: right;\">\n",
       "      <th></th>\n",
       "      <th>Date_reported</th>\n",
       "      <th>Country_code</th>\n",
       "      <th>Country</th>\n",
       "      <th>WHO_region</th>\n",
       "      <th>New_cases</th>\n",
       "      <th>Cumulative_cases</th>\n",
       "      <th>New_deaths</th>\n",
       "      <th>Cumulative_deaths</th>\n",
       "    </tr>\n",
       "  </thead>\n",
       "  <tbody>\n",
       "    <tr>\n",
       "      <th>0</th>\n",
       "      <td>2020-01-03</td>\n",
       "      <td>AF</td>\n",
       "      <td>Afghanistan</td>\n",
       "      <td>EMRO</td>\n",
       "      <td>0</td>\n",
       "      <td>0</td>\n",
       "      <td>0</td>\n",
       "      <td>0</td>\n",
       "    </tr>\n",
       "    <tr>\n",
       "      <th>1</th>\n",
       "      <td>2020-01-04</td>\n",
       "      <td>AF</td>\n",
       "      <td>Afghanistan</td>\n",
       "      <td>EMRO</td>\n",
       "      <td>0</td>\n",
       "      <td>0</td>\n",
       "      <td>0</td>\n",
       "      <td>0</td>\n",
       "    </tr>\n",
       "    <tr>\n",
       "      <th>2</th>\n",
       "      <td>2020-01-05</td>\n",
       "      <td>AF</td>\n",
       "      <td>Afghanistan</td>\n",
       "      <td>EMRO</td>\n",
       "      <td>0</td>\n",
       "      <td>0</td>\n",
       "      <td>0</td>\n",
       "      <td>0</td>\n",
       "    </tr>\n",
       "    <tr>\n",
       "      <th>3</th>\n",
       "      <td>2020-01-06</td>\n",
       "      <td>AF</td>\n",
       "      <td>Afghanistan</td>\n",
       "      <td>EMRO</td>\n",
       "      <td>0</td>\n",
       "      <td>0</td>\n",
       "      <td>0</td>\n",
       "      <td>0</td>\n",
       "    </tr>\n",
       "    <tr>\n",
       "      <th>4</th>\n",
       "      <td>2020-01-07</td>\n",
       "      <td>AF</td>\n",
       "      <td>Afghanistan</td>\n",
       "      <td>EMRO</td>\n",
       "      <td>0</td>\n",
       "      <td>0</td>\n",
       "      <td>0</td>\n",
       "      <td>0</td>\n",
       "    </tr>\n",
       "    <tr>\n",
       "      <th>...</th>\n",
       "      <td>...</td>\n",
       "      <td>...</td>\n",
       "      <td>...</td>\n",
       "      <td>...</td>\n",
       "      <td>...</td>\n",
       "      <td>...</td>\n",
       "      <td>...</td>\n",
       "      <td>...</td>\n",
       "    </tr>\n",
       "    <tr>\n",
       "      <th>278233</th>\n",
       "      <td>2023-03-17</td>\n",
       "      <td>ZW</td>\n",
       "      <td>Zimbabwe</td>\n",
       "      <td>AFRO</td>\n",
       "      <td>0</td>\n",
       "      <td>264391</td>\n",
       "      <td>0</td>\n",
       "      <td>5672</td>\n",
       "    </tr>\n",
       "    <tr>\n",
       "      <th>278234</th>\n",
       "      <td>2023-03-18</td>\n",
       "      <td>ZW</td>\n",
       "      <td>Zimbabwe</td>\n",
       "      <td>AFRO</td>\n",
       "      <td>0</td>\n",
       "      <td>264391</td>\n",
       "      <td>0</td>\n",
       "      <td>5672</td>\n",
       "    </tr>\n",
       "    <tr>\n",
       "      <th>278235</th>\n",
       "      <td>2023-03-19</td>\n",
       "      <td>ZW</td>\n",
       "      <td>Zimbabwe</td>\n",
       "      <td>AFRO</td>\n",
       "      <td>0</td>\n",
       "      <td>264391</td>\n",
       "      <td>0</td>\n",
       "      <td>5672</td>\n",
       "    </tr>\n",
       "    <tr>\n",
       "      <th>278236</th>\n",
       "      <td>2023-03-20</td>\n",
       "      <td>ZW</td>\n",
       "      <td>Zimbabwe</td>\n",
       "      <td>AFRO</td>\n",
       "      <td>0</td>\n",
       "      <td>264391</td>\n",
       "      <td>0</td>\n",
       "      <td>5672</td>\n",
       "    </tr>\n",
       "    <tr>\n",
       "      <th>278237</th>\n",
       "      <td>2023-03-21</td>\n",
       "      <td>ZW</td>\n",
       "      <td>Zimbabwe</td>\n",
       "      <td>AFRO</td>\n",
       "      <td>0</td>\n",
       "      <td>264391</td>\n",
       "      <td>0</td>\n",
       "      <td>5672</td>\n",
       "    </tr>\n",
       "  </tbody>\n",
       "</table>\n",
       "<p>278238 rows × 8 columns</p>\n",
       "</div>"
      ],
      "text/plain": [
       "       Date_reported Country_code      Country WHO_region  New_cases  \\\n",
       "0         2020-01-03           AF  Afghanistan       EMRO          0   \n",
       "1         2020-01-04           AF  Afghanistan       EMRO          0   \n",
       "2         2020-01-05           AF  Afghanistan       EMRO          0   \n",
       "3         2020-01-06           AF  Afghanistan       EMRO          0   \n",
       "4         2020-01-07           AF  Afghanistan       EMRO          0   \n",
       "...              ...          ...          ...        ...        ...   \n",
       "278233    2023-03-17           ZW     Zimbabwe       AFRO          0   \n",
       "278234    2023-03-18           ZW     Zimbabwe       AFRO          0   \n",
       "278235    2023-03-19           ZW     Zimbabwe       AFRO          0   \n",
       "278236    2023-03-20           ZW     Zimbabwe       AFRO          0   \n",
       "278237    2023-03-21           ZW     Zimbabwe       AFRO          0   \n",
       "\n",
       "        Cumulative_cases  New_deaths  Cumulative_deaths  \n",
       "0                      0           0                  0  \n",
       "1                      0           0                  0  \n",
       "2                      0           0                  0  \n",
       "3                      0           0                  0  \n",
       "4                      0           0                  0  \n",
       "...                  ...         ...                ...  \n",
       "278233            264391           0               5672  \n",
       "278234            264391           0               5672  \n",
       "278235            264391           0               5672  \n",
       "278236            264391           0               5672  \n",
       "278237            264391           0               5672  \n",
       "\n",
       "[278238 rows x 8 columns]"
      ]
     },
     "execution_count": 2,
     "metadata": {},
     "output_type": "execute_result"
    }
   ],
   "source": [
    "corona= pd.read_csv('/kaggle/input/records-of-coronavirus-dataset/WHO-COVID-19-global-data.csv')\n",
    "corona"
   ]
  },
  {
   "cell_type": "markdown",
   "id": "9d71ff80",
   "metadata": {
    "papermill": {
     "duration": 0.007341,
     "end_time": "2023-03-28T06:37:54.738274",
     "exception": false,
     "start_time": "2023-03-28T06:37:54.730933",
     "status": "completed"
    },
    "tags": []
   },
   "source": [
    "CHECK FOR NAN VALUES"
   ]
  },
  {
   "cell_type": "code",
   "execution_count": 3,
   "id": "70844eba",
   "metadata": {
    "execution": {
     "iopub.execute_input": "2023-03-28T06:37:54.755056Z",
     "iopub.status.busy": "2023-03-28T06:37:54.754637Z",
     "iopub.status.idle": "2023-03-28T06:37:58.230635Z",
     "shell.execute_reply": "2023-03-28T06:37:58.229126Z"
    },
    "papermill": {
     "duration": 3.488139,
     "end_time": "2023-03-28T06:37:58.233968",
     "exception": false,
     "start_time": "2023-03-28T06:37:54.745829",
     "status": "completed"
    },
    "tags": []
   },
   "outputs": [
    {
     "data": {
      "text/plain": [
       "<AxesSubplot:>"
      ]
     },
     "execution_count": 3,
     "metadata": {},
     "output_type": "execute_result"
    },
    {
     "data": {
      "image/png": "[encoded data removed]",
      "text/plain": [
       "<Figure size 640x480 with 2 Axes>"
      ]
     },
     "metadata": {},
     "output_type": "display_data"
    }
   ],
   "source": [
    "sns.heatmap(corona.isnull())#yticklabels=False)\n"
   ]
  },
  {
   "cell_type": "markdown",
   "id": "ad9195f2",
   "metadata": {
    "papermill": {
     "duration": 0.009154,
     "end_time": "2023-03-28T06:37:58.252253",
     "exception": false,
     "start_time": "2023-03-28T06:37:58.243099",
     "status": "completed"
    },
    "tags": []
   },
   "source": [
    "Only country code column has NaN values"
   ]
  },
  {
   "cell_type": "code",
   "execution_count": 4,
   "id": "284e5208",
   "metadata": {
    "execution": {
     "iopub.execute_input": "2023-03-28T06:37:58.271919Z",
     "iopub.status.busy": "2023-03-28T06:37:58.271486Z",
     "iopub.status.idle": "2023-03-28T06:37:58.297841Z",
     "shell.execute_reply": "2023-03-28T06:37:58.296440Z"
    },
    "papermill": {
     "duration": 0.039682,
     "end_time": "2023-03-28T06:37:58.300637",
     "exception": false,
     "start_time": "2023-03-28T06:37:58.260955",
     "status": "completed"
    },
    "tags": []
   },
   "outputs": [
    {
     "data": {
      "text/plain": [
       "Int64Index([167882, 167883, 167884, 167885, 167886, 167887, 167888, 167889,\n",
       "            167890, 167891,\n",
       "            ...\n",
       "            169046, 169047, 169048, 169049, 169050, 169051, 169052, 169053,\n",
       "            169054, 169055],\n",
       "           dtype='int64', length=1174)"
      ]
     },
     "execution_count": 4,
     "metadata": {},
     "output_type": "execute_result"
    }
   ],
   "source": [
    "k=corona['Country_code']\n",
    "k[k.isnull()].index"
   ]
  },
  {
   "cell_type": "markdown",
   "id": "449e4566",
   "metadata": {
    "papermill": {
     "duration": 0.008695,
     "end_time": "2023-03-28T06:37:58.318791",
     "exception": false,
     "start_time": "2023-03-28T06:37:58.310096",
     "status": "completed"
    },
    "tags": []
   },
   "source": [
    "there are 1174 rows with NaN values"
   ]
  },
  {
   "cell_type": "code",
   "execution_count": 5,
   "id": "8a95f9ff",
   "metadata": {
    "execution": {
     "iopub.execute_input": "2023-03-28T06:37:58.339406Z",
     "iopub.status.busy": "2023-03-28T06:37:58.338941Z",
     "iopub.status.idle": "2023-03-28T06:37:58.348670Z",
     "shell.execute_reply": "2023-03-28T06:37:58.347428Z"
    },
    "papermill": {
     "duration": 0.022288,
     "end_time": "2023-03-28T06:37:58.350978",
     "exception": false,
     "start_time": "2023-03-28T06:37:58.328690",
     "status": "completed"
    },
    "tags": []
   },
   "outputs": [
    {
     "data": {
      "text/plain": [
       "Date_reported        2023-03-21\n",
       "Country_code                NaN\n",
       "Country                 Namibia\n",
       "WHO_region                 AFRO\n",
       "New_cases                     0\n",
       "Cumulative_cases         171208\n",
       "New_deaths                    0\n",
       "Cumulative_deaths          4090\n",
       "Name: 169055, dtype: object"
      ]
     },
     "execution_count": 5,
     "metadata": {},
     "output_type": "execute_result"
    }
   ],
   "source": [
    "corona.loc[169055]"
   ]
  },
  {
   "cell_type": "code",
   "execution_count": 6,
   "id": "d0e82c30",
   "metadata": {
    "execution": {
     "iopub.execute_input": "2023-03-28T06:37:58.371356Z",
     "iopub.status.busy": "2023-03-28T06:37:58.370938Z",
     "iopub.status.idle": "2023-03-28T06:37:58.397902Z",
     "shell.execute_reply": "2023-03-28T06:37:58.396639Z"
    },
    "papermill": {
     "duration": 0.04061,
     "end_time": "2023-03-28T06:37:58.400548",
     "exception": false,
     "start_time": "2023-03-28T06:37:58.359938",
     "status": "completed"
    },
    "tags": []
   },
   "outputs": [
    {
     "data": {
      "text/plain": [
       "array(['AF', 'AL', 'DZ', 'AS', 'AD', 'AO', 'AI', 'AG', 'AR', 'AM', 'AW',\n",
       "       'AU', 'AT', 'AZ', 'BS', 'BH', 'BD', 'BB', 'BY', 'BE', 'BZ', 'BJ',\n",
       "       'BM', 'BT', 'BO', 'XA', 'BA', 'BW', 'BR', 'VG', 'BN', 'BG', 'BF',\n",
       "       'BI', 'CV', 'KH', 'CM', 'CA', 'KY', 'CF', 'TD', 'CL', 'CN', 'CO',\n",
       "       'KM', 'CG', 'CK', 'CR', 'CI', 'HR', 'CU', 'CW', 'CY', 'CZ', 'KP',\n",
       "       'CD', 'DK', 'DJ', 'DM', 'DO', 'EC', 'EG', 'SV', 'GQ', 'ER', 'EE',\n",
       "       'SZ', 'ET', 'FK', 'FO', 'FJ', 'FI', 'FR', 'GF', 'PF', 'GA', 'GM',\n",
       "       'GE', 'DE', 'GH', 'GI', 'GR', 'GL', 'GD', 'GP', 'GU', 'GT', 'GG',\n",
       "       'GN', 'GW', 'GY', 'HT', 'VA', 'HN', 'HU', 'IS', 'IN', 'ID', 'IR',\n",
       "       'IQ', 'IE', 'IM', 'IL', 'IT', 'JM', 'JP', 'JE', 'JO', 'KZ', 'KE',\n",
       "       'KI', 'XK', 'KW', 'KG', 'LA', 'LV', 'LB', 'LS', 'LR', 'LY', 'LI',\n",
       "       'LT', 'LU', 'MG', 'MW', 'MY', 'MV', 'ML', 'MT', 'MH', 'MQ', 'MR',\n",
       "       'MU', 'YT', 'MX', 'FM', 'MC', 'MN', 'ME', 'MS', 'MA', 'MZ', 'MM',\n",
       "       nan, 'NR', 'NP', 'NL', 'NC', 'NZ', 'NI', 'NE', 'NG', 'NU', 'MK',\n",
       "       'MP', 'NO', 'PS', 'OM', ' ', 'PK', 'PW', 'PA', 'PG', 'PY', 'PE',\n",
       "       'PH', 'PN', 'PL', 'PT', 'PR', 'QA', 'KR', 'MD', 'RE', 'RO', 'RU',\n",
       "       'RW', 'XC', 'BL', 'SH', 'KN', 'LC', 'MF', 'PM', 'VC', 'WS', 'SM',\n",
       "       'ST', 'SA', 'SN', 'RS', 'SC', 'SL', 'SG', 'XB', 'SX', 'SK', 'SI',\n",
       "       'SB', 'SO', 'ZA', 'SS', 'ES', 'LK', 'SD', 'SR', 'SE', 'CH', 'SY',\n",
       "       'TJ', 'TH', 'GB', 'TL', 'TG', 'TK', 'TO', 'TT', 'TN', 'TR', 'TM',\n",
       "       'TC', 'TV', 'UG', 'UA', 'AE', 'TZ', 'US', 'VI', 'UY', 'UZ', 'VU',\n",
       "       'VE', 'VN', 'WF', 'YE', 'ZM', 'ZW'], dtype=object)"
      ]
     },
     "execution_count": 6,
     "metadata": {},
     "output_type": "execute_result"
    }
   ],
   "source": [
    "corona.Country_code.unique()"
   ]
  },
  {
   "cell_type": "markdown",
   "id": "a965eee2",
   "metadata": {
    "papermill": {
     "duration": 0.008624,
     "end_time": "2023-03-28T06:37:58.418264",
     "exception": false,
     "start_time": "2023-03-28T06:37:58.409640",
     "status": "completed"
    },
    "tags": []
   },
   "source": [
    "The missing country code seems to be from country Namibia \n",
    "\n",
    "I will set the country code to NM \n",
    "\n",
    "There seems to be an empty Country code as well"
   ]
  },
  {
   "cell_type": "code",
   "execution_count": 7,
   "id": "c65f0b5e",
   "metadata": {
    "execution": {
     "iopub.execute_input": "2023-03-28T06:37:58.438007Z",
     "iopub.status.busy": "2023-03-28T06:37:58.437590Z",
     "iopub.status.idle": "2023-03-28T06:37:58.449585Z",
     "shell.execute_reply": "2023-03-28T06:37:58.448408Z"
    },
    "papermill": {
     "duration": 0.025122,
     "end_time": "2023-03-28T06:37:58.452418",
     "exception": false,
     "start_time": "2023-03-28T06:37:58.427296",
     "status": "completed"
    },
    "tags": []
   },
   "outputs": [],
   "source": [
    "corona.loc[167882:169055,'Country_code']='NM'\n",
    "#co"
   ]
  },
  {
   "cell_type": "markdown",
   "id": "a8bd01f8",
   "metadata": {
    "papermill": {
     "duration": 0.008801,
     "end_time": "2023-03-28T06:37:58.470221",
     "exception": false,
     "start_time": "2023-03-28T06:37:58.461420",
     "status": "completed"
    },
    "tags": []
   },
   "source": [
    "for the empty country code"
   ]
  },
  {
   "cell_type": "code",
   "execution_count": 8,
   "id": "b05b3633",
   "metadata": {
    "execution": {
     "iopub.execute_input": "2023-03-28T06:37:58.491728Z",
     "iopub.status.busy": "2023-03-28T06:37:58.490385Z",
     "iopub.status.idle": "2023-03-28T06:37:58.654641Z",
     "shell.execute_reply": "2023-03-28T06:37:58.653406Z"
    },
    "papermill": {
     "duration": 0.177842,
     "end_time": "2023-03-28T06:37:58.657416",
     "exception": false,
     "start_time": "2023-03-28T06:37:58.479574",
     "status": "completed"
    },
    "tags": []
   },
   "outputs": [
    {
     "data": {
      "text/html": [
       "<div>\n",
       "<style scoped>\n",
       "    .dataframe tbody tr th:only-of-type {\n",
       "        vertical-align: middle;\n",
       "    }\n",
       "\n",
       "    .dataframe tbody tr th {\n",
       "        vertical-align: top;\n",
       "    }\n",
       "\n",
       "    .dataframe thead th {\n",
       "        text-align: right;\n",
       "    }\n",
       "</style>\n",
       "<table border=\"1\" class=\"dataframe\">\n",
       "  <thead>\n",
       "    <tr style=\"text-align: right;\">\n",
       "      <th></th>\n",
       "      <th></th>\n",
       "      <th>New_cases</th>\n",
       "      <th>Cumulative_cases</th>\n",
       "      <th>New_deaths</th>\n",
       "      <th>Cumulative_deaths</th>\n",
       "    </tr>\n",
       "    <tr>\n",
       "      <th>Country_code</th>\n",
       "      <th></th>\n",
       "      <th></th>\n",
       "      <th></th>\n",
       "      <th></th>\n",
       "      <th></th>\n",
       "    </tr>\n",
       "  </thead>\n",
       "  <tbody>\n",
       "    <tr>\n",
       "      <th rowspan=\"5\" valign=\"top\"></th>\n",
       "      <th>185492</th>\n",
       "      <td>0</td>\n",
       "      <td>0</td>\n",
       "      <td>0</td>\n",
       "      <td>0</td>\n",
       "    </tr>\n",
       "    <tr>\n",
       "      <th>185493</th>\n",
       "      <td>0</td>\n",
       "      <td>0</td>\n",
       "      <td>0</td>\n",
       "      <td>0</td>\n",
       "    </tr>\n",
       "    <tr>\n",
       "      <th>185494</th>\n",
       "      <td>0</td>\n",
       "      <td>0</td>\n",
       "      <td>0</td>\n",
       "      <td>0</td>\n",
       "    </tr>\n",
       "    <tr>\n",
       "      <th>185495</th>\n",
       "      <td>0</td>\n",
       "      <td>0</td>\n",
       "      <td>0</td>\n",
       "      <td>0</td>\n",
       "    </tr>\n",
       "    <tr>\n",
       "      <th>185496</th>\n",
       "      <td>0</td>\n",
       "      <td>0</td>\n",
       "      <td>0</td>\n",
       "      <td>0</td>\n",
       "    </tr>\n",
       "    <tr>\n",
       "      <th>...</th>\n",
       "      <th>...</th>\n",
       "      <td>...</td>\n",
       "      <td>...</td>\n",
       "      <td>...</td>\n",
       "      <td>...</td>\n",
       "    </tr>\n",
       "    <tr>\n",
       "      <th rowspan=\"5\" valign=\"top\">ZW</th>\n",
       "      <th>278233</th>\n",
       "      <td>0</td>\n",
       "      <td>264391</td>\n",
       "      <td>0</td>\n",
       "      <td>5672</td>\n",
       "    </tr>\n",
       "    <tr>\n",
       "      <th>278234</th>\n",
       "      <td>0</td>\n",
       "      <td>264391</td>\n",
       "      <td>0</td>\n",
       "      <td>5672</td>\n",
       "    </tr>\n",
       "    <tr>\n",
       "      <th>278235</th>\n",
       "      <td>0</td>\n",
       "      <td>264391</td>\n",
       "      <td>0</td>\n",
       "      <td>5672</td>\n",
       "    </tr>\n",
       "    <tr>\n",
       "      <th>278236</th>\n",
       "      <td>0</td>\n",
       "      <td>264391</td>\n",
       "      <td>0</td>\n",
       "      <td>5672</td>\n",
       "    </tr>\n",
       "    <tr>\n",
       "      <th>278237</th>\n",
       "      <td>0</td>\n",
       "      <td>264391</td>\n",
       "      <td>0</td>\n",
       "      <td>5672</td>\n",
       "    </tr>\n",
       "  </tbody>\n",
       "</table>\n",
       "<p>278238 rows × 4 columns</p>\n",
       "</div>"
      ],
      "text/plain": [
       "                     New_cases  Cumulative_cases  New_deaths  \\\n",
       "Country_code                                                   \n",
       "             185492          0                 0           0   \n",
       "             185493          0                 0           0   \n",
       "             185494          0                 0           0   \n",
       "             185495          0                 0           0   \n",
       "             185496          0                 0           0   \n",
       "...                        ...               ...         ...   \n",
       "ZW           278233          0            264391           0   \n",
       "             278234          0            264391           0   \n",
       "             278235          0            264391           0   \n",
       "             278236          0            264391           0   \n",
       "             278237          0            264391           0   \n",
       "\n",
       "                     Cumulative_deaths  \n",
       "Country_code                            \n",
       "             185492                  0  \n",
       "             185493                  0  \n",
       "             185494                  0  \n",
       "             185495                  0  \n",
       "             185496                  0  \n",
       "...                                ...  \n",
       "ZW           278233               5672  \n",
       "             278234               5672  \n",
       "             278235               5672  \n",
       "             278236               5672  \n",
       "             278237               5672  \n",
       "\n",
       "[278238 rows x 4 columns]"
      ]
     },
     "execution_count": 8,
     "metadata": {},
     "output_type": "execute_result"
    }
   ],
   "source": [
    "corona.groupby(['Country_code',corona.index]).sum()"
   ]
  },
  {
   "cell_type": "code",
   "execution_count": 9,
   "id": "4c6cfd03",
   "metadata": {
    "execution": {
     "iopub.execute_input": "2023-03-28T06:37:58.680274Z",
     "iopub.status.busy": "2023-03-28T06:37:58.678918Z",
     "iopub.status.idle": "2023-03-28T06:37:58.688815Z",
     "shell.execute_reply": "2023-03-28T06:37:58.687456Z"
    },
    "papermill": {
     "duration": 0.024225,
     "end_time": "2023-03-28T06:37:58.691726",
     "exception": false,
     "start_time": "2023-03-28T06:37:58.667501",
     "status": "completed"
    },
    "tags": []
   },
   "outputs": [
    {
     "data": {
      "text/plain": [
       "185492    Other\n",
       "185493    Other\n",
       "185494    Other\n",
       "185495    Other\n",
       "185496    Other\n",
       "          ...  \n",
       "186661    Other\n",
       "186662    Other\n",
       "186663    Other\n",
       "186664    Other\n",
       "186665    Other\n",
       "Name: Country, Length: 1174, dtype: object"
      ]
     },
     "execution_count": 9,
     "metadata": {},
     "output_type": "execute_result"
    }
   ],
   "source": [
    "corona.loc[185492:186665,'Country']"
   ]
  },
  {
   "cell_type": "code",
   "execution_count": 10,
   "id": "c7ed5ba5",
   "metadata": {
    "execution": {
     "iopub.execute_input": "2023-03-28T06:37:58.714365Z",
     "iopub.status.busy": "2023-03-28T06:37:58.713126Z",
     "iopub.status.idle": "2023-03-28T06:37:58.725916Z",
     "shell.execute_reply": "2023-03-28T06:37:58.724646Z"
    },
    "papermill": {
     "duration": 0.027023,
     "end_time": "2023-03-28T06:37:58.728944",
     "exception": false,
     "start_time": "2023-03-28T06:37:58.701921",
     "status": "completed"
    },
    "tags": []
   },
   "outputs": [],
   "source": [
    "corona.loc[185492:186665,'Country_code']= 'OTH'"
   ]
  },
  {
   "cell_type": "markdown",
   "id": "5a9f752d",
   "metadata": {
    "papermill": {
     "duration": 0.009219,
     "end_time": "2023-03-28T06:37:58.747734",
     "exception": false,
     "start_time": "2023-03-28T06:37:58.738515",
     "status": "completed"
    },
    "tags": []
   },
   "source": [
    "I used OTH to represent OTHER COUNTRY code"
   ]
  },
  {
   "cell_type": "code",
   "execution_count": 11,
   "id": "eda8b7c8",
   "metadata": {
    "execution": {
     "iopub.execute_input": "2023-03-28T06:37:58.770004Z",
     "iopub.status.busy": "2023-03-28T06:37:58.769557Z",
     "iopub.status.idle": "2023-03-28T06:38:02.216618Z",
     "shell.execute_reply": "2023-03-28T06:38:02.215204Z"
    },
    "papermill": {
     "duration": 3.462339,
     "end_time": "2023-03-28T06:38:02.219827",
     "exception": false,
     "start_time": "2023-03-28T06:37:58.757488",
     "status": "completed"
    },
    "tags": []
   },
   "outputs": [
    {
     "data": {
      "text/plain": [
       "<AxesSubplot:>"
      ]
     },
     "execution_count": 11,
     "metadata": {},
     "output_type": "execute_result"
    },
    {
     "data": {
      "image/png": "[encoded data removed]",
      "text/plain": [
       "<Figure size 640x480 with 2 Axes>"
      ]
     },
     "metadata": {},
     "output_type": "display_data"
    }
   ],
   "source": [
    "sns.heatmap(corona.isnull())#yticklabels=False)\n"
   ]
  },
  {
   "cell_type": "markdown",
   "id": "d3904341",
   "metadata": {
    "papermill": {
     "duration": 0.010421,
     "end_time": "2023-03-28T06:38:02.241371",
     "exception": false,
     "start_time": "2023-03-28T06:38:02.230950",
     "status": "completed"
    },
    "tags": []
   },
   "source": [
    "obviously there are no more NaN values"
   ]
  },
  {
   "cell_type": "code",
   "execution_count": 12,
   "id": "1b7955d6",
   "metadata": {
    "execution": {
     "iopub.execute_input": "2023-03-28T06:38:02.265113Z",
     "iopub.status.busy": "2023-03-28T06:38:02.264239Z",
     "iopub.status.idle": "2023-03-28T06:38:02.320005Z",
     "shell.execute_reply": "2023-03-28T06:38:02.318947Z"
    },
    "papermill": {
     "duration": 0.070686,
     "end_time": "2023-03-28T06:38:02.322616",
     "exception": false,
     "start_time": "2023-03-28T06:38:02.251930",
     "status": "completed"
    },
    "tags": []
   },
   "outputs": [
    {
     "data": {
      "text/plain": [
       "dtype('<M8[ns]')"
      ]
     },
     "execution_count": 12,
     "metadata": {},
     "output_type": "execute_result"
    }
   ],
   "source": [
    "#parse dates \n",
    "corona['Date_reported']=pd.to_datetime(corona['Date_reported'],format='%Y-%m-%d')\n",
    "corona.Date_reported.dtype"
   ]
  },
  {
   "cell_type": "code",
   "execution_count": 13,
   "id": "af6741a0",
   "metadata": {
    "execution": {
     "iopub.execute_input": "2023-03-28T06:38:02.345660Z",
     "iopub.status.busy": "2023-03-28T06:38:02.345218Z",
     "iopub.status.idle": "2023-03-28T06:38:20.762793Z",
     "shell.execute_reply": "2023-03-28T06:38:20.761303Z"
    },
    "papermill": {
     "duration": 18.432165,
     "end_time": "2023-03-28T06:38:20.765384",
     "exception": false,
     "start_time": "2023-03-28T06:38:02.333219",
     "status": "completed"
    },
    "tags": []
   },
   "outputs": [
    {
     "data": {
      "text/plain": [
       "<AxesSubplot:title={'center':'Year with highest death and cases'}, xlabel='New_cases', ylabel='New_deaths'>"
      ]
     },
     "execution_count": 13,
     "metadata": {},
     "output_type": "execute_result"
    },
    {
     "data": {
      "image/png": "[encoded data removed]",
      "text/plain": [
       "<Figure size 640x480 with 1 Axes>"
      ]
     },
     "metadata": {},
     "output_type": "display_data"
    }
   ],
   "source": [
    "plt.title('Year with highest death and cases')\n",
    "sns.scatterplot(hue=corona['Date_reported'].dt.year,y=corona['New_deaths'],x=corona['New_cases'])"
   ]
  },
  {
   "cell_type": "markdown",
   "id": "507400a8",
   "metadata": {
    "papermill": {
     "duration": 0.011927,
     "end_time": "2023-03-28T06:38:20.789349",
     "exception": false,
     "start_time": "2023-03-28T06:38:20.777422",
     "status": "completed"
    },
    "tags": []
   },
   "source": [
    "From the scatterplot, Overall Highest number of deaths and cases was recorded in 2022"
   ]
  },
  {
   "cell_type": "markdown",
   "id": "6497da1c",
   "metadata": {
    "papermill": {
     "duration": 0.011579,
     "end_time": "2023-03-28T06:38:20.812808",
     "exception": false,
     "start_time": "2023-03-28T06:38:20.801229",
     "status": "completed"
    },
    "tags": []
   },
   "source": [
    "The dataset shows the daily records of cases and deaths in each country from 2020 January to 2023 March \n",
    "\n",
    "It therefore makes sense to group the data by year and also by country, to see the number of deaths and cases in each country per year"
   ]
  },
  {
   "cell_type": "code",
   "execution_count": 14,
   "id": "8b1cac35",
   "metadata": {
    "execution": {
     "iopub.execute_input": "2023-03-28T06:38:20.838809Z",
     "iopub.status.busy": "2023-03-28T06:38:20.838365Z",
     "iopub.status.idle": "2023-03-28T06:38:20.909626Z",
     "shell.execute_reply": "2023-03-28T06:38:20.908303Z"
    },
    "papermill": {
     "duration": 0.08728,
     "end_time": "2023-03-28T06:38:20.912195",
     "exception": false,
     "start_time": "2023-03-28T06:38:20.824915",
     "status": "completed"
    },
    "tags": []
   },
   "outputs": [
    {
     "data": {
      "text/plain": [
       "year  Country                                                 \n",
       "2020  Afghanistan                                                 52330\n",
       "      Albania                                                     57146\n",
       "      Algeria                                                     99311\n",
       "      American Samoa                                                  0\n",
       "      Andorra                                                      7983\n",
       "                                                                  ...  \n",
       "2023  Wallis and Futuna                                               0\n",
       "      Yemen                                                           0\n",
       "      Zambia                                                       9054\n",
       "      Zimbabwe                                                     4291\n",
       "      occupied Palestinian territory, including east Jerusalem        0\n",
       "Name: New_cases, Length: 948, dtype: int64"
      ]
     },
     "execution_count": 14,
     "metadata": {},
     "output_type": "execute_result"
    }
   ],
   "source": [
    "corona['year']= corona['Date_reported'].dt.year\n",
    "N_data= corona['New_cases'].groupby([corona['year'],corona['Country']]).sum()\n",
    "N_data"
   ]
  },
  {
   "cell_type": "code",
   "execution_count": 15,
   "id": "826be376",
   "metadata": {
    "execution": {
     "iopub.execute_input": "2023-03-28T06:38:20.937988Z",
     "iopub.status.busy": "2023-03-28T06:38:20.937552Z",
     "iopub.status.idle": "2023-03-28T06:38:20.981954Z",
     "shell.execute_reply": "2023-03-28T06:38:20.980785Z"
    },
    "papermill": {
     "duration": 0.060343,
     "end_time": "2023-03-28T06:38:20.984546",
     "exception": false,
     "start_time": "2023-03-28T06:38:20.924203",
     "status": "completed"
    },
    "tags": []
   },
   "outputs": [
    {
     "data": {
      "text/plain": [
       "year  Country                                                 \n",
       "2020  Afghanistan                                                 2189\n",
       "      Albania                                                     1170\n",
       "      Algeria                                                     2751\n",
       "      American Samoa                                                 0\n",
       "      Andorra                                                       84\n",
       "                                                                  ... \n",
       "2023  Wallis and Futuna                                              0\n",
       "      Yemen                                                          0\n",
       "      Zambia                                                        34\n",
       "      Zimbabwe                                                      35\n",
       "      occupied Palestinian territory, including east Jerusalem       0\n",
       "Name: New_deaths, Length: 948, dtype: int64"
      ]
     },
     "execution_count": 15,
     "metadata": {},
     "output_type": "execute_result"
    }
   ],
   "source": [
    "#\n",
    "N2_data= corona['New_deaths'].groupby([corona['year'],corona['Country']]).sum()\n",
    "N2_data"
   ]
  },
  {
   "cell_type": "code",
   "execution_count": 16,
   "id": "9ac16e90",
   "metadata": {
    "execution": {
     "iopub.execute_input": "2023-03-28T06:38:21.010480Z",
     "iopub.status.busy": "2023-03-28T06:38:21.010023Z",
     "iopub.status.idle": "2023-03-28T06:38:21.028971Z",
     "shell.execute_reply": "2023-03-28T06:38:21.027617Z"
    },
    "papermill": {
     "duration": 0.034848,
     "end_time": "2023-03-28T06:38:21.031503",
     "exception": false,
     "start_time": "2023-03-28T06:38:20.996655",
     "status": "completed"
    },
    "tags": []
   },
   "outputs": [
    {
     "data": {
      "text/html": [
       "<div>\n",
       "<style scoped>\n",
       "    .dataframe tbody tr th:only-of-type {\n",
       "        vertical-align: middle;\n",
       "    }\n",
       "\n",
       "    .dataframe tbody tr th {\n",
       "        vertical-align: top;\n",
       "    }\n",
       "\n",
       "    .dataframe thead th {\n",
       "        text-align: right;\n",
       "    }\n",
       "</style>\n",
       "<table border=\"1\" class=\"dataframe\">\n",
       "  <thead>\n",
       "    <tr style=\"text-align: right;\">\n",
       "      <th></th>\n",
       "      <th></th>\n",
       "      <th>New_cases</th>\n",
       "      <th>New_deaths</th>\n",
       "    </tr>\n",
       "    <tr>\n",
       "      <th>year</th>\n",
       "      <th>Country</th>\n",
       "      <th></th>\n",
       "      <th></th>\n",
       "    </tr>\n",
       "  </thead>\n",
       "  <tbody>\n",
       "    <tr>\n",
       "      <th rowspan=\"5\" valign=\"top\">2020</th>\n",
       "      <th>Afghanistan</th>\n",
       "      <td>52330</td>\n",
       "      <td>2189</td>\n",
       "    </tr>\n",
       "    <tr>\n",
       "      <th>Albania</th>\n",
       "      <td>57146</td>\n",
       "      <td>1170</td>\n",
       "    </tr>\n",
       "    <tr>\n",
       "      <th>Algeria</th>\n",
       "      <td>99311</td>\n",
       "      <td>2751</td>\n",
       "    </tr>\n",
       "    <tr>\n",
       "      <th>American Samoa</th>\n",
       "      <td>0</td>\n",
       "      <td>0</td>\n",
       "    </tr>\n",
       "    <tr>\n",
       "      <th>Andorra</th>\n",
       "      <td>7983</td>\n",
       "      <td>84</td>\n",
       "    </tr>\n",
       "    <tr>\n",
       "      <th>...</th>\n",
       "      <th>...</th>\n",
       "      <td>...</td>\n",
       "      <td>...</td>\n",
       "    </tr>\n",
       "    <tr>\n",
       "      <th rowspan=\"5\" valign=\"top\">2023</th>\n",
       "      <th>Wallis and Futuna</th>\n",
       "      <td>0</td>\n",
       "      <td>0</td>\n",
       "    </tr>\n",
       "    <tr>\n",
       "      <th>Yemen</th>\n",
       "      <td>0</td>\n",
       "      <td>0</td>\n",
       "    </tr>\n",
       "    <tr>\n",
       "      <th>Zambia</th>\n",
       "      <td>9054</td>\n",
       "      <td>34</td>\n",
       "    </tr>\n",
       "    <tr>\n",
       "      <th>Zimbabwe</th>\n",
       "      <td>4291</td>\n",
       "      <td>35</td>\n",
       "    </tr>\n",
       "    <tr>\n",
       "      <th>occupied Palestinian territory, including east Jerusalem</th>\n",
       "      <td>0</td>\n",
       "      <td>0</td>\n",
       "    </tr>\n",
       "  </tbody>\n",
       "</table>\n",
       "<p>948 rows × 2 columns</p>\n",
       "</div>"
      ],
      "text/plain": [
       "                                                         New_cases  New_deaths\n",
       "year Country                                                                  \n",
       "2020 Afghanistan                                             52330        2189\n",
       "     Albania                                                 57146        1170\n",
       "     Algeria                                                 99311        2751\n",
       "     American Samoa                                              0           0\n",
       "     Andorra                                                  7983          84\n",
       "...                                                            ...         ...\n",
       "2023 Wallis and Futuna                                           0           0\n",
       "     Yemen                                                       0           0\n",
       "     Zambia                                                   9054          34\n",
       "     Zimbabwe                                                 4291          35\n",
       "     occupied Palestinian territory, including east ...          0           0\n",
       "\n",
       "[948 rows x 2 columns]"
      ]
     },
     "execution_count": 16,
     "metadata": {},
     "output_type": "execute_result"
    }
   ],
   "source": [
    "Joint= pd.concat([N_data,N2_data],axis=1)\n",
    "Joint"
   ]
  },
  {
   "cell_type": "code",
   "execution_count": 17,
   "id": "aecf9063",
   "metadata": {
    "execution": {
     "iopub.execute_input": "2023-03-28T06:38:21.058256Z",
     "iopub.status.busy": "2023-03-28T06:38:21.057776Z",
     "iopub.status.idle": "2023-03-28T06:38:21.067819Z",
     "shell.execute_reply": "2023-03-28T06:38:21.066515Z"
    },
    "papermill": {
     "duration": 0.02674,
     "end_time": "2023-03-28T06:38:21.070488",
     "exception": false,
     "start_time": "2023-03-28T06:38:21.043748",
     "status": "completed"
    },
    "tags": []
   },
   "outputs": [
    {
     "data": {
      "text/plain": [
       "New_cases                        (2022, China)\n",
       "New_deaths    (2021, United States of America)\n",
       "dtype: object"
      ]
     },
     "execution_count": 17,
     "metadata": {},
     "output_type": "execute_result"
    }
   ],
   "source": [
    "Joint.idxmax()"
   ]
  },
  {
   "cell_type": "markdown",
   "id": "213e0d34",
   "metadata": {
    "papermill": {
     "duration": 0.01206,
     "end_time": "2023-03-28T06:38:21.094872",
     "exception": false,
     "start_time": "2023-03-28T06:38:21.082812",
     "status": "completed"
    },
    "tags": []
   },
   "source": [
    "The United States in 2021 has the highest number of deaths recorded and China in 2021 has the highest number of Coronavirus cases recorded"
   ]
  },
  {
   "cell_type": "code",
   "execution_count": 18,
   "id": "a551c1e9",
   "metadata": {
    "execution": {
     "iopub.execute_input": "2023-03-28T06:38:21.121789Z",
     "iopub.status.busy": "2023-03-28T06:38:21.121357Z",
     "iopub.status.idle": "2023-03-28T06:38:21.131281Z",
     "shell.execute_reply": "2023-03-28T06:38:21.129927Z"
    },
    "papermill": {
     "duration": 0.026632,
     "end_time": "2023-03-28T06:38:21.133814",
     "exception": false,
     "start_time": "2023-03-28T06:38:21.107182",
     "status": "completed"
    },
    "tags": []
   },
   "outputs": [
    {
     "data": {
      "text/plain": [
       "New_cases     (2020, American Samoa)\n",
       "New_deaths    (2020, American Samoa)\n",
       "dtype: object"
      ]
     },
     "execution_count": 18,
     "metadata": {},
     "output_type": "execute_result"
    }
   ],
   "source": [
    "Joint.idxmin()"
   ]
  },
  {
   "cell_type": "markdown",
   "id": "88e37d82",
   "metadata": {
    "papermill": {
     "duration": 0.012033,
     "end_time": "2023-03-28T06:38:21.158364",
     "exception": false,
     "start_time": "2023-03-28T06:38:21.146331",
     "status": "completed"
    },
    "tags": []
   },
   "source": [
    "American Samoa in 2020 has the lowest number of cases and deaths recorded"
   ]
  },
  {
   "cell_type": "code",
   "execution_count": 19,
   "id": "e85ddd68",
   "metadata": {
    "execution": {
     "iopub.execute_input": "2023-03-28T06:38:21.185401Z",
     "iopub.status.busy": "2023-03-28T06:38:21.184669Z",
     "iopub.status.idle": "2023-03-28T06:38:21.432166Z",
     "shell.execute_reply": "2023-03-28T06:38:21.431280Z"
    },
    "papermill": {
     "duration": 0.263993,
     "end_time": "2023-03-28T06:38:21.434834",
     "exception": false,
     "start_time": "2023-03-28T06:38:21.170841",
     "status": "completed"
    },
    "tags": []
   },
   "outputs": [
    {
     "data": {
      "text/plain": [
       "<AxesSubplot:xlabel='New_cases', ylabel='New_deaths'>"
      ]
     },
     "execution_count": 19,
     "metadata": {},
     "output_type": "execute_result"
    },
    {
     "data": {
      "image/png": "[encoded data removed]",
      "text/plain": [
       "<Figure size 640x480 with 1 Axes>"
      ]
     },
     "metadata": {},
     "output_type": "display_data"
    }
   ],
   "source": [
    "sns.scatterplot(x=Joint['New_cases'],y= Joint['New_deaths'])"
   ]
  },
  {
   "cell_type": "code",
   "execution_count": 20,
   "id": "422eefec",
   "metadata": {
    "execution": {
     "iopub.execute_input": "2023-03-28T06:38:21.464325Z",
     "iopub.status.busy": "2023-03-28T06:38:21.463336Z",
     "iopub.status.idle": "2023-03-28T06:38:21.860376Z",
     "shell.execute_reply": "2023-03-28T06:38:21.859003Z"
    },
    "papermill": {
     "duration": 0.415047,
     "end_time": "2023-03-28T06:38:21.863288",
     "exception": false,
     "start_time": "2023-03-28T06:38:21.448241",
     "status": "completed"
    },
    "tags": []
   },
   "outputs": [
    {
     "data": {
      "text/plain": [
       "<AxesSubplot:xlabel='New_cases', ylabel='New_deaths'>"
      ]
     },
     "execution_count": 20,
     "metadata": {},
     "output_type": "execute_result"
    },
    {
     "data": {
      "image/png": "[encoded data removed]",
      "text/plain": [
       "<Figure size 640x480 with 1 Axes>"
      ]
     },
     "metadata": {},
     "output_type": "display_data"
    }
   ],
   "source": [
    "sns.regplot(data=Joint,x='New_cases',y= 'New_deaths')"
   ]
  },
  {
   "cell_type": "markdown",
   "id": "d1970c5d",
   "metadata": {
    "papermill": {
     "duration": 0.013451,
     "end_time": "2023-03-28T06:38:21.890550",
     "exception": false,
     "start_time": "2023-03-28T06:38:21.877099",
     "status": "completed"
    },
    "tags": []
   },
   "source": [
    "Since the regression line shows a positive correlation between the two variables, For every increase in number of cases, there is also an increase in Number of deaths recorded"
   ]
  },
  {
   "cell_type": "markdown",
   "id": "0a8eb6c9",
   "metadata": {
    "papermill": {
     "duration": 0.01358,
     "end_time": "2023-03-28T06:38:21.918120",
     "exception": false,
     "start_time": "2023-03-28T06:38:21.904540",
     "status": "completed"
    },
    "tags": []
   },
   "source": []
  }
 ],
 "metadata": {
  "kernelspec": {
   "display_name": "Python 3",
   "language": "python",
   "name": "python3"
  },
  "language_info": {
   "codemirror_mode": {
    "name": "ipython",
    "version": 3
   },
   "file_extension": ".py",
   "mimetype": "text/x-python",
   "name": "python",
   "nbconvert_exporter": "python",
   "pygments_lexer": "ipython3",
   "version": "3.7.12"
  },
  "papermill": {
   "default_parameters": {},
   "duration": 39.751872,
   "end_time": "2023-03-28T06:38:22.756558",
   "environment_variables": {},
   "exception": null,
   "input_path": "__notebook__.ipynb",
   "output_path": "__notebook__.ipynb",
   "parameters": {},
   "start_time": "2023-03-28T06:37:43.004686",
   "version": "2.4.0"
  }
 },
 "nbformat": 4,
 "nbformat_minor": 5
}
